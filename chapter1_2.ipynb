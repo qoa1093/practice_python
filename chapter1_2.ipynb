{
 "cells": [
  {
   "cell_type": "code",
   "execution_count": 1,
   "id": "e7b36971",
   "metadata": {},
   "outputs": [
    {
     "name": "stdout",
     "output_type": "stream",
     "text": [
      "Hello world!\n"
     ]
    }
   ],
   "source": [
    "print(\"Hello world!\")"
   ]
  },
  {
   "cell_type": "markdown",
   "id": "80d3110c",
   "metadata": {},
   "source": [
    "#a: 위로 셀 / b: 새로운 셀 / 코드실행 : ctr + ent / 전체선택 : ctr + a #d*2 : 셀삭제 /\n",
    "#esc : command mode / enter : edit mode /마크다운 : m + y /#: 글자크기 ##:작게"
   ]
  },
  {
   "cell_type": "markdown",
   "id": "12b3c4d4",
   "metadata": {},
   "source": [
    "#숫자형 = 정수(integer), 실수(float)"
   ]
  },
  {
   "cell_type": "markdown",
   "id": "e8348b8b",
   "metadata": {},
   "source": [
    "#문자형 = character(한글자), string(문자열)\n"
   ]
  },
  {
   "cell_type": "markdown",
   "id": "f463680f",
   "metadata": {},
   "source": [
    "#주석은 샾 잠시 또는 설명하는 목적\n",
    "마크다운 m :블록단위로 코멘트 쓸 때"
   ]
  },
  {
   "cell_type": "code",
   "execution_count": null,
   "id": "c257ad29",
   "metadata": {},
   "outputs": [],
   "source": [
    "\n"
   ]
  }
 ],
 "metadata": {
  "kernelspec": {
   "display_name": "Python 3 (ipykernel)",
   "language": "python",
   "name": "python3"
  },
  "language_info": {
   "codemirror_mode": {
    "name": "ipython",
    "version": 3
   },
   "file_extension": ".py",
   "mimetype": "text/x-python",
   "name": "python",
   "nbconvert_exporter": "python",
   "pygments_lexer": "ipython3",
   "version": "3.9.13"
  }
 },
 "nbformat": 4,
 "nbformat_minor": 5
}
