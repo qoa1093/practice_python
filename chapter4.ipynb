{
 "cells": [
  {
   "cell_type": "markdown",
   "id": "97d1f6d5",
   "metadata": {},
   "source": [
    "4강 연산자"
   ]
  },
  {
   "cell_type": "code",
   "execution_count": 5,
   "id": "51533ddc",
   "metadata": {},
   "outputs": [
    {
     "name": "stdout",
     "output_type": "stream",
     "text": [
      "9\n"
     ]
    }
   ],
   "source": [
    "#더하기\n",
    "print(5+4)\n",
    "#빼기\n",
    "print(5-4)\n",
    "#곱하기\n",
    "print(5*4)\n"
   ]
  },
  {
   "cell_type": "code",
   "execution_count": 3,
   "id": "e1df9c38",
   "metadata": {},
   "outputs": [
    {
     "name": "stdout",
     "output_type": "stream",
     "text": [
      "2.0\n"
     ]
    }
   ],
   "source": [
    "#나누기(실수)\n",
    "print(8/4)"
   ]
  },
  {
   "cell_type": "code",
   "execution_count": 6,
   "id": "49ebeb44",
   "metadata": {},
   "outputs": [
    {
     "name": "stdout",
     "output_type": "stream",
     "text": [
      "2\n",
      "2.995\n",
      "2.0\n"
     ]
    }
   ],
   "source": [
    "#나누기(정수)\n",
    "print(8//4)\n",
    "# 정수로 나와야하지만 소수점 값이 필요한 상황에서는 실수로 타입을 바꿔줌\n",
    "print(5.99/2)\n",
    "print(5.99//2)"
   ]
  },
  {
   "cell_type": "code",
   "execution_count": 7,
   "id": "1881dd22",
   "metadata": {},
   "outputs": [
    {
     "name": "stdout",
     "output_type": "stream",
     "text": [
      "1\n"
     ]
    }
   ],
   "source": [
    "#모듈로연산 = 나머지를 가져옴\n",
    "print(5%2)"
   ]
  },
  {
   "cell_type": "code",
   "execution_count": 10,
   "id": "c21a8523",
   "metadata": {},
   "outputs": [
    {
     "name": "stdout",
     "output_type": "stream",
     "text": [
      "8\n",
      "8.0\n"
     ]
    }
   ],
   "source": [
    "#지수 연산 \n",
    "print(2**3)\n",
    "print(2.0**3)"
   ]
  },
  {
   "cell_type": "code",
   "execution_count": null,
   "id": "848f6d21",
   "metadata": {},
   "outputs": [],
   "source": []
  }
 ],
 "metadata": {
  "kernelspec": {
   "display_name": "Python 3 (ipykernel)",
   "language": "python",
   "name": "python3"
  },
  "language_info": {
   "codemirror_mode": {
    "name": "ipython",
    "version": 3
   },
   "file_extension": ".py",
   "mimetype": "text/x-python",
   "name": "python",
   "nbconvert_exporter": "python",
   "pygments_lexer": "ipython3",
   "version": "3.9.13"
  }
 },
 "nbformat": 4,
 "nbformat_minor": 5
}
